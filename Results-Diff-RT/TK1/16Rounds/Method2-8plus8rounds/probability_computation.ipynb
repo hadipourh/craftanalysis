{
 "cells": [
  {
   "cell_type": "markdown",
   "metadata": {},
   "source": [
    "# RTK1-16 rounds"
   ]
  },
  {
   "cell_type": "code",
   "execution_count": 1,
   "metadata": {},
   "outputs": [],
   "source": [
    "fileobj = open('tk1_possible_outputs_16r.txt')\n",
    "tk1_possible_ios_16r = fileobj.readlines()\n",
    "fileobj.close()"
   ]
  },
  {
   "cell_type": "code",
   "execution_count": 2,
   "metadata": {},
   "outputs": [
    {
     "name": "stdout",
     "output_type": "stream",
     "text": [
      "p_tk1_16r = 2^-62.6845\n"
     ]
    }
   ],
   "source": [
    "p1 = matrix([5.3148596634855494e-11, 0.0, 5.3148596634855494e-11, 5.3148596634855494e-11, 5.3148596634855494e-11, 0.0, 0.0, 0.0, 0.0, 0.0, 5.3148596634855494e-11, 0.0, 5.3148596634855494e-11, 5.3148596634855494e-11, 5.3148596634855494e-11, 5.3148596634855494e-11, 0.0, 5.3148596634855494e-11, 5.3148596634855494e-11, 5.3148596634855494e-11, 5.3148596634855494e-11, 0.0, 5.3148596634855494e-11, 5.3148596634855494e-11, 5.3148596634855494e-11])\n",
    "p2 = matrix([0.0, 0.0, 0.0, 0.0, 0.0, 3.326476871734485e-10, 0.0, 6.352820491883904e-10, 3.326476871734485e-10, 6.352820491883904e-10, 3.326476871734485e-10, 3.013838068000041e-10, 9.366658559883945e-10, 3.326476871734485e-10, 6.352820491883904e-10, 0.0, 0.0, 0.0, 0.0, 0.0, 0.0, 3.013838068000041e-10, 3.013838068000041e-10, 0.0, 0.0])\n",
    "p = p1 * p2.transpose()\n",
    "p = p[0, 0]\n",
    "print(\"p_tk1_16r = 2^%0.4f\" % p.log2())\n",
    "#output: -62.6844818145"
   ]
  },
  {
   "cell_type": "code",
   "execution_count": null,
   "metadata": {},
   "outputs": [],
   "source": []
  }
 ],
 "metadata": {
  "kernelspec": {
   "display_name": "SageMath 8.2",
   "language": "",
   "name": "sagemath"
  },
  "language_info": {
   "codemirror_mode": {
    "name": "ipython",
    "version": 2
   },
   "file_extension": ".py",
   "mimetype": "text/x-python",
   "name": "python",
   "nbconvert_exporter": "python",
   "pygments_lexer": "ipython2",
   "version": "2.7.14"
  }
 },
 "nbformat": 4,
 "nbformat_minor": 2
}
