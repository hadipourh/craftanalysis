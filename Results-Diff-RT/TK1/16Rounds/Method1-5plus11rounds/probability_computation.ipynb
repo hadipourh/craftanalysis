{
 "cells": [
  {
   "cell_type": "markdown",
   "metadata": {},
   "source": [
    "# RTK1-16 rounds"
   ]
  },
  {
   "cell_type": "code",
   "execution_count": 1,
   "metadata": {},
   "outputs": [],
   "source": [
    "fileobj = open('tk1_possible_outputs.txt')\n",
    "tk1_possible_ios = fileobj.readlines()\n",
    "fileobj.close()"
   ]
  },
  {
   "cell_type": "code",
   "execution_count": 6,
   "metadata": {},
   "outputs": [
    {
     "name": "stdout",
     "output_type": "stream",
     "text": [
      "p_tk1_16r = 2^-62.7719\n"
     ]
    }
   ],
   "source": [
    "p1 = matrix([1.3113021850585938e-06, 0.0, 1.3113021850585938e-06, 1.3113021850585938e-06, 1.3113021850585938e-06, 2.6226043701171875e-06, 0.0, 2.6226043701171875e-06, 2.6226043701171875e-06, 2.6226043701171875e-06, 5.245208740234375e-06, 0.0, 5.245208740234375e-06, 5.245208740234375e-06, 5.245208740234375e-06, 1.3113021850585938e-06, 0.0, 1.3113021850585938e-06, 1.3113021850585938e-06, 1.3113021850585938e-06, 2.6226043701171875e-06, 0.0, 2.6226043701171875e-06, 2.6226043701171875e-06, 2.6226043701171875e-06])\n",
    "p2 = matrix([0.0, 0.0, 0.0, 0.0, 0.0, 0.0, 0.0, 4.842046902320263e-15, 0.0, 0.0, 0.0, 0.0, 1.936818760928105e-14, 0.0, 0.0, 0.0, 0.0, 0.0, 0.0, 0.0, 0.0, 0.0, 4.842046902320263e-15, 0.0, 0.0])\n",
    "p = p1 * p2.transpose()\n",
    "p = p[0, 0]\n",
    "print(\"p_tk1_16r = 2^%0.4f\" % p.log2())\n",
    "#output: -62.7719446558"
   ]
  }
 ],
 "metadata": {
  "kernelspec": {
   "display_name": "SageMath 8.2",
   "language": "",
   "name": "sagemath"
  },
  "language_info": {
   "codemirror_mode": {
    "name": "ipython",
    "version": 2
   },
   "file_extension": ".py",
   "mimetype": "text/x-python",
   "name": "python",
   "nbconvert_exporter": "python",
   "pygments_lexer": "ipython2",
   "version": "2.7.14"
  }
 },
 "nbformat": 4,
 "nbformat_minor": 2
}
