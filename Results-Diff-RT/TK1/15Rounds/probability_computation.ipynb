{
 "cells": [
  {
   "cell_type": "markdown",
   "metadata": {},
   "source": [
    "# RT"
   ]
  },
  {
   "cell_type": "code",
   "execution_count": null,
   "metadata": {},
   "outputs": [],
   "source": [
    "fileobj = open('tk1_possible_outputs_15r.txt')\n",
    "tk1_possible_ios = fileobj.readlines()\n",
    "fileobj.close()"
   ]
  },
  {
   "cell_type": "code",
   "execution_count": null,
   "metadata": {},
   "outputs": [],
   "source": [
    "p1 = vector([2.769229467958212e-08, 0.0, 2.769229467958212e-08, 2.769229467958212e-08, 2.769229467958212e-08])\n",
    "p2 = vector([6.922995510194596e-11, 7.415401626076346e-11, 1.4779999446545844e-10, 8.116884941955504e-11, 1.0463629962487175e-10])\n",
    "p = p1.dot_product(p2)\n",
    "print(float(log(p, 2)))\n",
    "#output: -56.3150317132"
   ]
  }
 ],
 "metadata": {
  "kernelspec": {
   "display_name": "SageMath 8.2",
   "language": "",
   "name": "sagemath"
  },
  "language_info": {
   "codemirror_mode": {
    "name": "ipython",
    "version": 2
   },
   "file_extension": ".py",
   "mimetype": "text/x-python",
   "name": "python",
   "nbconvert_exporter": "python",
   "pygments_lexer": "ipython2",
   "version": "2.7.14"
  }
 },
 "nbformat": 4,
 "nbformat_minor": 2
}
