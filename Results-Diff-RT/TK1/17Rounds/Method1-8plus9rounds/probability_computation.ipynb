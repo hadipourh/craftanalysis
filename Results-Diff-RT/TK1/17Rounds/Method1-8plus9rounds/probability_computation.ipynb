{
 "cells": [
  {
   "cell_type": "markdown",
   "metadata": {},
   "source": [
    "# RTK1-17 rounds"
   ]
  },
  {
   "cell_type": "code",
   "execution_count": 1,
   "metadata": {},
   "outputs": [],
   "source": [
    "fileobj = open('tk1_possible_outputs_17r.txt')\n",
    "tk1_possible_outputs_17r = fileobj.readlines()\n",
    "fileobj.close()"
   ]
  },
  {
   "cell_type": "code",
   "execution_count": 2,
   "metadata": {},
   "outputs": [
    {
     "name": "stdout",
     "output_type": "stream",
     "text": [
      "p_tk1_17r = 2^-65.3366\n"
     ]
    }
   ],
   "source": [
    "p1 = matrix([3.382183422218077e-11, 0.0, 3.382183422218077e-11, 3.382183422218077e-11, 3.382183422218077e-11, 0.0, 0.0, 0.0, 0.0, 0.0, 3.382183422218077e-11, 0.0, 3.382183422218077e-11, 3.382183422218077e-11, 3.382183422218077e-11, 3.382183422218077e-11, 0.0, 3.382183422218077e-11, 3.382183422218077e-11, 3.382183422218077e-11, 3.382183422218077e-11, 0.0, 3.382183422218077e-11, 3.382183422218077e-11, 3.382183422218077e-11])\n",
    "p2 = matrix([0.0, 0.0, 0.0, 0.0, 0.0, 8.316192179336213e-11, 0.0, 1.588205122970976e-10, 8.316192179336213e-11, 1.588205122970976e-10, 8.316192179336213e-11, 7.534595170000102e-11, 2.341664639970986e-10, 8.316192179336213e-11, 1.588205122970976e-10, 0.0, 0.0, 0.0, 0.0, 0.0, 0.0, 7.534595170000102e-11, 7.534595170000102e-11, 0.0, 0.0])\n",
    "p = p1 * p2.transpose()\n",
    "p = p[0, 0]\n",
    "print(\"p_tk1_17r = 2^%0.4f\" % p.log2())\n",
    "#output: -65.3365585111"
   ]
  },
  {
   "cell_type": "code",
   "execution_count": null,
   "metadata": {},
   "outputs": [],
   "source": []
  }
 ],
 "metadata": {
  "kernelspec": {
   "display_name": "SageMath 8.2",
   "language": "",
   "name": "sagemath"
  },
  "language_info": {
   "codemirror_mode": {
    "name": "ipython",
    "version": 2
   },
   "file_extension": ".py",
   "mimetype": "text/x-python",
   "name": "python",
   "nbconvert_exporter": "python",
   "pygments_lexer": "ipython2",
   "version": "2.7.14"
  }
 },
 "nbformat": 4,
 "nbformat_minor": 2
}
