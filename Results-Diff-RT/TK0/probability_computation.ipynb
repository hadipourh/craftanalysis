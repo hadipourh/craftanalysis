{
 "cells": [
  {
   "cell_type": "markdown",
   "metadata": {},
   "source": [
    "# RTK0-15 rounds"
   ]
  },
  {
   "cell_type": "code",
   "execution_count": null,
   "metadata": {},
   "outputs": [],
   "source": [
    "p"
   ]
  },
  {
   "cell_type": "code",
   "execution_count": 8,
   "metadata": {},
   "outputs": [
    {
     "name": "stdout",
     "output_type": "stream",
     "text": [
      "p_tk0_15r = 2^-55.1439\n"
     ]
    }
   ],
   "source": [
    "\n",
    "p1 = matrix([1.5832483768463135e-07, 1.5832483768463135e-07, 1.5832483768463135e-07, 0.0, 1.5832483768463135e-07, 1.5832483768463135e-07, 1.5832483768463135e-07, 1.5832483768463135e-07, 0.0, 1.5832483768463135e-07, 1.5832483768463135e-07, 1.5832483768463135e-07, 1.5832483768463135e-07, 0.0, 1.5832483768463135e-07, 0.0, 0.0, 0.0, 0.0, 0.0, 1.5832483768463135e-07, 1.5832483768463135e-07, 1.5832483768463135e-07, 0.0, 1.5832483768463135e-07])\n",
    "p2 = matrix([5.854161599927465e-11, 2.079048044834053e-11, 2.079048044834053e-11, 1.8836487925000256e-11, 3.97051280742744e-11, 0.0, 0.0, 0.0, 0.0, 0.0, 0.0, 0.0, 0.0, 0.0, 0.0, 3.97051280742744e-11, 2.079048044834053e-11, 2.079048044834053e-11, 0.0, 3.97051280742744e-11, 1.8836487925000256e-11, 0.0, 0.0, 1.8836487925000256e-11, 0.0])\n",
    "p = p1 * p2.transpose()\n",
    "p = p[0, 0]\n",
    "print(\"p_tk0_15r = 2^%0.4f\" % p.log2())"
   ]
  }
 ],
 "metadata": {
  "kernelspec": {
   "display_name": "SageMath 8.2",
   "language": "",
   "name": "sagemath"
  },
  "language_info": {
   "codemirror_mode": {
    "name": "ipython",
    "version": 2
   },
   "file_extension": ".py",
   "mimetype": "text/x-python",
   "name": "python",
   "nbconvert_exporter": "python",
   "pygments_lexer": "ipython2",
   "version": "2.7.14"
  }
 },
 "nbformat": 4,
 "nbformat_minor": 2
}
