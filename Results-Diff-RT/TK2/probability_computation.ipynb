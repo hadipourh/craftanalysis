{
 "cells": [
  {
   "cell_type": "markdown",
   "metadata": {},
   "source": [
    "# RTK2-17 rounds"
   ]
  },
  {
   "cell_type": "code",
   "execution_count": 1,
   "metadata": {},
   "outputs": [],
   "source": [
    "fileobj = open('tk2_possible_outputs.txt')\n",
    "tk2_possible_ios = fileobj.readlines()\n",
    "fileobj.close()"
   ]
  },
  {
   "cell_type": "code",
   "execution_count": 2,
   "metadata": {},
   "outputs": [
    {
     "name": "stdout",
     "output_type": "stream",
     "text": [
      "p_tk2_17r = 2^-60.1439\n"
     ]
    }
   ],
   "source": [
    "p1 = matrix([4.94765117764473e-09, 0.0, 4.94765117764473e-09, 4.94765117764473e-09, 4.94765117764473e-09, 0.0, 0.0, 0.0, 0.0, 0.0, 4.94765117764473e-09, 0.0, 4.94765117764473e-09, 4.94765117764473e-09, 4.94765117764473e-09, 4.94765117764473e-09, 0.0, 4.94765117764473e-09, 4.94765117764473e-09, 4.94765117764473e-09, 4.94765117764473e-09, 0.0, 4.94765117764473e-09, 4.94765117764473e-09, 4.94765117764473e-09])\n",
    "p2 = matrix([0.0, 0.0, 0.0, 0.0, 0.0, 2.079048044834053e-11, 0.0, 3.97051280742744e-11, 2.079048044834053e-11, 3.97051280742744e-11, 2.079048044834053e-11, 1.8836487925000256e-11, 5.854161599927465e-11, 2.079048044834053e-11, 3.97051280742744e-11, 0.0, 0.0, 0.0, 0.0, 0.0, 0.0, 1.8836487925000256e-11, 1.8836487925000256e-11, 0.0, 0.0])\n",
    "p = p1 * p2.transpose()\n",
    "p = p[0, 0]\n",
    "print(\"p_tk2_17r = 2^%0.4f\" % p.log2())"
   ]
  },
  {
   "cell_type": "code",
   "execution_count": null,
   "metadata": {},
   "outputs": [],
   "source": []
  }
 ],
 "metadata": {
  "kernelspec": {
   "display_name": "SageMath 8.2",
   "language": "",
   "name": "sagemath"
  },
  "language_info": {
   "codemirror_mode": {
    "name": "ipython",
    "version": 2
   },
   "file_extension": ".py",
   "mimetype": "text/x-python",
   "name": "python",
   "nbconvert_exporter": "python",
   "pygments_lexer": "ipython2",
   "version": "2.7.14"
  }
 },
 "nbformat": 4,
 "nbformat_minor": 2
}
